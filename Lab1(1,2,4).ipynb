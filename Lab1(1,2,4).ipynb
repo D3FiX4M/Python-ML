{
 "cells": [
  {
   "cell_type": "markdown",
   "metadata": {},
   "source": [
    "\n",
    "\n",
    "Задание 1\n",
    "\n",
    "Дан массив вида [a,b,c,d,e,a,a,b,c]\n",
    "\n",
    "а) Преобразуйте его в словарь вида { a: [0,5,6], b: [1,7], ... e: [5] }"
   ]
  },
  {
   "cell_type": "code",
   "execution_count": 6,
   "metadata": {},
   "outputs": [
    {
     "data": {
      "text/plain": [
       "{'a': [0, 5, 6], 'b': [1, 7], 'c': [2, 8], 'd': [3], 'e': [4]}"
      ]
     },
     "execution_count": 6,
     "metadata": {},
     "output_type": "execute_result"
    }
   ],
   "source": [
    "arr = ['a', 'b', 'c', 'd', 'e', 'a', 'a', 'b', 'c']\n",
    "result = {}\n",
    "for i in range(len(arr)): \n",
    "    if result.get(arr[i]) is not None:\n",
    "        result[arr[i]].append(i)\n",
    "    if result.get(arr[i]) is  None:\n",
    "        result[arr[i]] = [i]       \n",
    "result"
   ]
  },
  {
   "cell_type": "markdown",
   "metadata": {},
   "source": [
    "Сделайте это в одну строчку кода (разрешается с меньшей эффективностью)"
   ]
  },
  {
   "cell_type": "code",
   "execution_count": 7,
   "metadata": {},
   "outputs": [
    {
     "data": {
      "text/plain": [
       "{'b': [1, 7], 'd': [3], 'a': [0, 5, 6], 'e': [4], 'c': [2, 8]}"
      ]
     },
     "execution_count": 7,
     "metadata": {},
     "output_type": "execute_result"
    }
   ],
   "source": [
    "arr = ['a', 'b', 'c', 'd', 'e', 'a', 'a', 'b', 'c']\n",
    "result = {item :[i for i in range(len(arr)) if arr[i] == item] for item in set(arr)}     \n",
    "result"
   ]
  },
  {
   "cell_type": "markdown",
   "metadata": {},
   "source": [
    "####\n",
    "\n",
    "Задание 2\n",
    "\n",
    "Метрика Жаккара (Jaccard similarity) - способ измерения сходства между множествами. Вычисляется как |AB||A B|, т.е. размер пересечения поделить на размер объединения множеств.\n",
    "\n",
    "Реализуйте вычисление метрики не используя методов intersection и union типа set и не создавая промежуточных множеств."
   ]
  },
  {
   "cell_type": "code",
   "execution_count": 8,
   "metadata": {},
   "outputs": [
    {
     "data": {
      "text/plain": [
       "'18%'"
      ]
     },
     "execution_count": 8,
     "metadata": {},
     "output_type": "execute_result"
    }
   ],
   "source": [
    "x = {1, 2, 3, 4,'a', 'b'}\n",
    "y = {2, 3, 5, 6, 'd', 'g','h'}\n",
    "z = []\n",
    "\n",
    "for i in x:\n",
    "    for j in y:\n",
    "        if i==j:\n",
    "            z.append(i)\n",
    "            \n",
    "similarity = len(z) /( len(x) + len(y) - len(z))\n",
    "'{0:.0%}'.format(similarity)"
   ]
  },
  {
   "cell_type": "markdown",
   "metadata": {},
   "source": [
    "UPD: использовать тип set. Не принимаются решения, делающие |A| * |B| сравнений или похожие переборы."
   ]
  },
  {
   "cell_type": "code",
   "execution_count": 9,
   "metadata": {},
   "outputs": [
    {
     "data": {
      "text/plain": [
       "'38%'"
      ]
     },
     "execution_count": 9,
     "metadata": {},
     "output_type": "execute_result"
    }
   ],
   "source": [
    "x = {0,1,2,3,4,5,6,7,8,9,10}\n",
    "y = {15,14,13,12,11,10,9,8,7,6,5}\n",
    "similarity = len(x & y) /( len(x) + len(y) - len(x & y))\n",
    "'{0:.0%}'.format(similarity)"
   ]
  },
  {
   "cell_type": "markdown",
   "metadata": {},
   "source": [
    "####\n",
    "\n",
    "Задание 4\n",
    "\n",
    "Преобразуйте данные в CSV-файл вида:\n",
    "\n",
    "item, country, year, sales\n",
    "\n",
    "ITEM1, Russia, 2010, 23\n",
    "\n",
    "ITEM1, Russia, 2011, 40 \n",
    "\n",
    "…\n",
    "\n",
    "ITEM2, Russia, 2010, 40 \n",
    "\n",
    "...."
   ]
  },
  {
   "cell_type": "code",
   "execution_count": 10,
   "metadata": {},
   "outputs": [],
   "source": [
    "import json\n",
    "import csv\n",
    "\n",
    "with open('sales.json', 'r') as file: data = file.read()\n",
    "dataJS = json.loads(data)\n",
    "f = []\n",
    "headers = ['item', 'country', ' year', 'sales']\n",
    "\n",
    "for i in dataJS:\n",
    "    for country in i['sales_by_country']:\n",
    "        for year in i['sales_by_country'][country]:\n",
    "            f.append([ i['item'], country, year, i['sales_by_country'][country][year] ])\n",
    "\n",
    "            \n",
    "with open('sales.csv', 'w') as file:\n",
    "    writer = csv.writer(file)\n",
    "    writer.writerow(headers)\n",
    "    for row in f:\n",
    "        writer.writerow(row)\n",
    "        \n",
    "#with open('sales.csv','r') as file:  \n",
    "#    reader = csv.reader(file)\n",
    "#    for row in reader:\n",
    "#        print(row)\n",
    "            "
   ]
  },
  {
   "cell_type": "code",
   "execution_count": null,
   "metadata": {},
   "outputs": [],
   "source": []
  }
 ],
 "metadata": {
  "kernelspec": {
   "display_name": "Python 3",
   "language": "python",
   "name": "python3"
  },
  "language_info": {
   "codemirror_mode": {
    "name": "ipython",
    "version": 3
   },
   "file_extension": ".py",
   "mimetype": "text/x-python",
   "name": "python",
   "nbconvert_exporter": "python",
   "pygments_lexer": "ipython3",
   "version": "3.8.5"
  }
 },
 "nbformat": 4,
 "nbformat_minor": 4
}
